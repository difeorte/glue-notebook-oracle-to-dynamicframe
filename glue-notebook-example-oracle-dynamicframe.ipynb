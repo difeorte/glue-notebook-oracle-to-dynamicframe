{
	"metadata": {
		"kernelspec": {
			"name": "glue_pyspark",
			"display_name": "Glue PySpark",
			"language": "python"
		},
		"language_info": {
			"name": "Python_Glue_Session",
			"mimetype": "text/x-python",
			"codemirror_mode": {
				"name": "python",
				"version": 3
			},
			"pygments_lexer": "python3",
			"file_extension": ".py"
		}
	},
	"nbformat_minor": 4,
	"nbformat": 4,
	"cells": [
		{
			"cell_type": "markdown",
			"source": "\n# Glue Studio Notebook\nYou are now running a **Glue Studio** notebook; before you can start using your notebook you *must* start an interactive session.\n\n## Available Magics\n|          Magic              |   Type       |                                                                        Description                                                                        |\n|-----------------------------|--------------|-----------------------------------------------------------------------------------------------------------------------------------------------------------|\n| %%configure                 |  Dictionary  |  A json-formatted dictionary consisting of all configuration parameters for a session. Each parameter can be specified here or through individual magics. |\n| %profile                    |  String      |  Specify a profile in your aws configuration to use as the credentials provider.                                                                          |\n| %iam_role                   |  String      |  Specify an IAM role to execute your session with.                                                                                                        |\n| %region                     |  String      |  Specify the AWS region in which to initialize a session.                                                                                                 |\n| %session_id                 |  String      |  Returns the session ID for the running session.                                                                                                          |\n| %connections                |  List        |  Specify a comma separated list of connections to use in the session.                                                                                     |\n| %additional_python_modules  |  List        |  Comma separated list of pip packages, s3 paths or private pip arguments.                                                                                 |\n| %extra_py_files             |  List        |  Comma separated list of additional Python files from S3.                                                                                                 |\n| %extra_jars                 |  List        |  Comma separated list of additional Jars to include in the cluster.                                                                                       |\n| %number_of_workers          |  Integer     |  The number of workers of a defined worker_type that are allocated when a job runs. worker_type must be set too.                                          |\n| %glue_version               |  String      |  The version of Glue to be used by this session. Currently, the only valid options are 2.0 and 3.0 (eg: %glue_version 2.0).                               |\n| %security_config            |  String      |  Define a security configuration to be used with this session.                                                                                            |\n| %sql                        |  String      |  Run SQL code. All lines after the initial %%sql magic will be passed as part of the SQL code.                                                            |\n| %streaming                  |  String      |  Changes the session type to Glue Streaming.                                                                                                              |\n| %etl                        |  String      |  Changes the session type to Glue ETL.                                                                                                                    |\n| %status                     |              |  Returns the status of the current Glue session including its duration, configuration and executing user / role.                                          |\n| %stop_session               |              |  Stops the current session.                                                                                                                               |\n| %list_sessions              |              |  Lists all currently running sessions by name and ID.                                                                                                     |\n| %worker_type                |  String      |  Standard, G.1X, *or* G.2X. number_of_workers must be set too. Default is G.1X.                                                                           |\n| %spark_conf                 |  String      |  Specify custom spark configurations for your session. E.g. %spark_conf spark.serializer=org.apache.spark.serializer.KryoSerializer.                      |",
			"metadata": {
				"editable": false,
				"deletable": false,
				"trusted": true
			}
		},
		{
			"cell_type": "markdown",
			"source": "Establish the IAM role that Glue will be using. This role needs to include the policies stated in this link: https://docs.aws.amazon.com/glue/latest/ug/notebook-getting-started.html\nThis step can be avoided if you already chose the IAM role during the set up of the Glue notebook session. Change the role name to yours.",
			"metadata": {}
		},
		{
			"cell_type": "code",
			"source": "%iam_role arn:aws:iam::930929117161:role/<your-glue-role>",
			"metadata": {},
			"execution_count": null,
			"outputs": [
				{
					"name": "stdout",
					"text": "Current iam_role is arn:aws:iam::930929117161:role/glue-connection-role\niam_role has been set to arn:aws:iam::930929117161:role/glue-connection-role.\n",
					"output_type": "stream"
				}
			]
		},
		{
			"cell_type": "markdown",
			"source": "Establish the glue version in 3.0:",
			"metadata": {}
		},
		{
			"cell_type": "code",
			"source": "%glue_version 3.0",
			"metadata": {
				"trusted": true
			},
			"execution_count": 2,
			"outputs": [
				{
					"name": "stdout",
					"text": "Welcome to the Glue Interactive Sessions Kernel\nFor more information on available magic commands, please type %help in any new cell.\n\nPlease view our Getting Started page to access the most up-to-date information on the Interactive Sessions kernel: https://docs.aws.amazon.com/glue/latest/dg/interactive-sessions.html\nInstalled kernel version: 0.37.0 \nSetting Glue version to: 3.0\n",
					"output_type": "stream"
				}
			]
		},
		{
			"cell_type": "markdown",
			"source": "Establish the connection the Glue job will be using to connect to oracle. Change the name to your connection:",
			"metadata": {}
		},
		{
			"cell_type": "code",
			"source": "%connections <your-connection-name>",
			"metadata": {
				"trusted": true
			},
			"execution_count": 4,
			"outputs": [
				{
					"name": "stdout",
					"text": "Connections to be included:\noracle-connection\n",
					"output_type": "stream"
				}
			]
		},
		{
			"cell_type": "markdown",
			"source": "Include the necessary libraries:",
			"metadata": {}
		},
		{
			"cell_type": "code",
			"source": "import sys\nfrom awsglue.transforms import *\nfrom awsglue.utils import getResolvedOptions\nfrom pyspark.context import SparkContext\nfrom awsglue.context import GlueContext\nfrom awsglue.job import Job\nfrom awsglue.dynamicframe import DynamicFrame",
			"metadata": {
				"editable": true,
				"trusted": true
			},
			"execution_count": 1,
			"outputs": [
				{
					"name": "stdout",
					"text": "Authenticating with environment variables and user-defined glue_role_arn: arn:aws:iam::930929117161:role/glue-connection-role\nTrying to create a Glue session for the kernel.\nWorker Type: G.1X\nNumber of Workers: 5\nSession ID: b3aaaffe-b4e4-4684-b335-ac8ff89881ef\nJob Type: glueetl\nApplying the following default arguments:\n--glue_kernel_version 0.37.0\n--enable-glue-datacatalog true\nWaiting for session b3aaaffe-b4e4-4684-b335-ac8ff89881ef to get into ready status...\nSession b3aaaffe-b4e4-4684-b335-ac8ff89881ef has been created.\n\n",
					"output_type": "stream"
				}
			]
		},
		{
			"cell_type": "markdown",
			"source": "Define a method to connect to Oracle through a Dynamicframe:",
			"metadata": {}
		},
		{
			"cell_type": "code",
			"source": "def directJDBCSource(\n    glueContext,\n    connectionName,\n    connectionType,\n    database,\n    table,\n    redshiftTmpDir,\n    transformation_ctx,\n) -> DynamicFrame:\n\n    connection_options = {\n        \"useConnectionProperties\": \"true\",\n        \"dbtable\": table,\n        \"connectionName\": connectionName,\n    }\n\n    if redshiftTmpDir:\n        connection_options[\"redshiftTmpDir\"] = redshiftTmpDir\n\n    return glueContext.create_dynamic_frame.from_options(\n        connection_type=connectionType,\n        connection_options=connection_options,\n        transformation_ctx=transformation_ctx,\n    )",
			"metadata": {
				"trusted": true
			},
			"execution_count": 2,
			"outputs": [
				{
					"name": "stdout",
					"text": "\n",
					"output_type": "stream"
				}
			]
		},
		{
			"cell_type": "markdown",
			"source": "Create the Spark and Glue contexts:",
			"metadata": {}
		},
		{
			"cell_type": "code",
			"source": "sc = SparkContext.getOrCreate()\nglueContext = GlueContext(sc)\nspark = glueContext.spark_session\njob = Job(glueContext)",
			"metadata": {
				"trusted": true
			},
			"execution_count": 3,
			"outputs": [
				{
					"name": "stdout",
					"text": "\n",
					"output_type": "stream"
				}
			]
		},
		{
			"cell_type": "markdown",
			"source": "Check the session number and status:",
			"metadata": {}
		},
		{
			"cell_type": "code",
			"source": "%list_sessions",
			"metadata": {
				"trusted": true
			},
			"execution_count": 6,
			"outputs": [
				{
					"name": "stdout",
					"text": "The first 1 sessions are:\nb3aaaffe-b4e4-4684-b335-ac8ff89881ef\n",
					"output_type": "stream"
				}
			]
		},
		{
			"cell_type": "code",
			"source": "%status",
			"metadata": {
				"trusted": true
			},
			"execution_count": 8,
			"outputs": [
				{
					"name": "stdout",
					"text": "Session ID: b3aaaffe-b4e4-4684-b335-ac8ff89881ef\nStatus: READY\nRole: arn:aws:iam::930929117161:role/glue-connection-role\nCreatedOn: 2022-12-22 16:33:13.156000+00:00\nGlueVersion: 3.0\nWorker Type: G.1X\nNumber of Workers: 5\nRegion: us-east-1\nConnections: ['oracle-connection']\nApplying the following default arguments:\n--glue_kernel_version 0.37.0\n--enable-glue-datacatalog true\nArguments Passed: ['--glue_kernel_version: 0.37.0', '--enable-glue-datacatalog: true']\n",
					"output_type": "stream"
				}
			]
		},
		{
			"cell_type": "markdown",
			"source": "Connect to Oracle using the method defined earlier and extract the defined table into a Glue Dynamicframe. Change the parameters to yours:",
			"metadata": {}
		},
		{
			"cell_type": "code",
			"source": "# Script generated for node Oracle SQL\nOracleSQL_node1671594088379 = directJDBCSource(\n    glueContext,\n    connectionName=\"<your-oracle-connection>\",\n    connectionType=\"oracle\",\n    database=\"<your-oracle-database-name>\",\n    table=\"<your-table-name>\",\n    redshiftTmpDir=\"\",\n    transformation_ctx=\"OracleSQL_node1671594088379\",\n)",
			"metadata": {
				"trusted": true
			},
			"execution_count": 4,
			"outputs": [
				{
					"name": "stdout",
					"text": "\n",
					"output_type": "stream"
				}
			]
		},
		{
			"cell_type": "markdown",
			"source": "Convert the Dynamicframe to a Dataframe, print its schema, and show some results in order to understand data types and debbug some problems:",
			"metadata": {}
		},
		{
			"cell_type": "code",
			"source": "Dataframe = OracleSQL_node1671594088379.toDF().printSchema()",
			"metadata": {
				"trusted": true
			},
			"execution_count": 12,
			"outputs": [
				{
					"name": "stdout",
					"text": "root\n |-- ID: decimal(38,10) (nullable = true)\n |-- NAME: string (nullable = true)\n |-- ABBREVIATED_NAME: string (nullable = true)\n |-- HOME_FIELD_ID: decimal(3,0) (nullable = true)\n |-- SPORT_TYPE_NAME: string (nullable = true)\n |-- SPORT_LEAGUE_SHORT_NAME: string (nullable = true)\n |-- SPORT_DIVISION_SHORT_NAME: string (nullable = true)\n",
					"output_type": "stream"
				}
			]
		},
		{
			"cell_type": "code",
			"source": "Dataframe.show()",
			"metadata": {
				"trusted": true
			},
			"execution_count": 9,
			"outputs": [
				{
					"name": "stdout",
					"text": "+--------------+--------------------+----------------+-------------+---------------+-----------------------+-------------------------+\n|            ID|                NAME|ABBREVIATED_NAME|HOME_FIELD_ID|SPORT_TYPE_NAME|SPORT_LEAGUE_SHORT_NAME|SPORT_DIVISION_SHORT_NAME|\n+--------------+--------------------+----------------+-------------+---------------+-----------------------+-------------------------+\n|511.0000000000|   Carolina Panthers|             CAR|           40|       football|                    NFL|                NFC South|\n|121.0000000000| St. Louis Cardinals|             STL|            3|       baseball|                    MLB|               NL Central|\n| 31.0000000000|   Oakland Athletics|             OAK|           18|       baseball|                    MLB|                  AL West|\n|261.0000000000|San Francisco Giants|              SF|            2|       baseball|                    MLB|                  NL West|\n|111.0000000000|    San Diego Padres|              SD|           20|       baseball|                    MLB|                  NL West|\n|101.0000000000|    Seattle Mariners|             SEA|           24|       baseball|                    MLB|                  AL West|\n|291.0000000000|Arizona Diamondbacks|             ARI|            4|       baseball|                    MLB|                  NL West|\n|351.0000000000|  Indianapolis Colts|             IND|           54|       football|                    NFL|                AFC South|\n|591.0000000000|    Los Angeles Rams|              LA|           32|       football|                    NFL|                 NFC West|\n|181.0000000000|  Kansas City Royals|              KC|           13|       baseball|                    MLB|               AL Central|\n|461.0000000000|       Chicago Bears|             CHI|           62|       football|                    NFL|                NFC North|\n|421.0000000000|      Denver Broncos|             DEN|           39|       football|                    NFL|                 AFC West|\n|521.0000000000|  New Orleans Saints|              NO|           41|       football|                    NFL|                NFC South|\n|451.0000000000|  San Diego Chargers|              SD|           46|       football|                    NFL|                 AFC West|\n|411.0000000000|       New York Jets|             NYJ|           34|       football|                    NFL|                 AFC East|\n|361.0000000000|Jacksonville Jaguars|             JAX|           53|       football|                    NFL|                AFC South|\n|271.0000000000|   Cleveland Indians|             CLE|           22|       baseball|                    MLB|               AL Central|\n|311.0000000000|  Cincinnati Bengals|             CIN|           58|       football|                    NFL|                AFC North|\n|221.0000000000|   Toronto Blue Jays|             TOR|           23|       baseball|                    MLB|                  AL East|\n|341.0000000000|      Houston Texans|             HOU|           42|       football|                    NFL|                AFC South|\n+--------------+--------------------+----------------+-------------+---------------+-----------------------+-------------------------+\nonly showing top 20 rows\n",
					"output_type": "stream"
				}
			]
		},
		{
			"cell_type": "markdown",
			"source": "Change some data types of the initial Dynamicframe with the ApplyMapping transformation. Here you need to change the columns and data types according to your case. The provided ones are part of the example:",
			"metadata": {}
		},
		{
			"cell_type": "code",
			"source": "# Script generated for node ApplyMapping\nApplyMapping_node2 = ApplyMapping.apply(\n    frame=OracleSQL_node1671594088379,\n    mappings=[\n        (\"abbreviated_name\", \"string\", \"abbreviated_name\", \"string\"),\n        (\"sport_type_name\", \"string\", \"sport_type_name\", \"string\"),\n        (\"sport_division_short_name\", \"string\", \"sport_division_short_name\", \"string\"),\n        (\"id\", \"decimal\", \"id\", \"int\"),\n        (\"home_field_id\", \"decimal\", \"home_field_id\", \"int\"),\n        (\"sport_league_short_name\", \"string\", \"sport_league_short_name\", \"string\"),\n        (\"name\", \"string\", \"name\", \"string\"),\n    ],\n    transformation_ctx=\"ApplyMapping_node2\",\n)",
			"metadata": {
				"trusted": true
			},
			"execution_count": 10,
			"outputs": [
				{
					"name": "stdout",
					"text": "\n",
					"output_type": "stream"
				}
			]
		},
		{
			"cell_type": "markdown",
			"source": "Write the resulting Dynamicframe into S3. You need to change the path, catalogDatabase, catalogTableName, and format:",
			"metadata": {}
		},
		{
			"cell_type": "code",
			"source": "# Script generated for node S3 bucket\nS3bucket_node3 = glueContext.getSink(\n    path=\"s3://<your-bucket>/oracle-notebook/\",\n    connection_type=\"s3\",\n    updateBehavior=\"UPDATE_IN_DATABASE\",\n    partitionKeys=[],\n    enableUpdateCatalog=True,\n    transformation_ctx=\"S3bucket_node3\",\n)\nS3bucket_node3.setCatalogInfo(catalogDatabase=\"data-lake\", catalogTableName=\"oracle\")\nS3bucket_node3.setFormat(\"json\")\nS3bucket_node3.writeFrame(ApplyMapping_node2)",
			"metadata": {
				"trusted": true
			},
			"execution_count": 11,
			"outputs": [
				{
					"name": "stdout",
					"text": "<awsglue.dynamicframe.DynamicFrame object at 0x7f823a9f98d0>\n",
					"output_type": "stream"
				}
			]
		}
	]
}